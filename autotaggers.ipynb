{
 "cells": [
  {
   "cell_type": "code",
   "execution_count": null,
   "metadata": {},
   "outputs": [],
   "source": [
    "import librosa\n",
    "import matplotlib.pyplot as plt\n",
    "import numpy as np\n",
    "\n",
    "# https://github.com/jordipons/musicnn \n",
    "# documentação: https://github.com/jordipons/musicnn/blob/master/DOCUMENTATION.md\n",
    "from musicnn.tagger import top_tags\n",
    "from musicnn.extractor import extractor\n",
    "\n",
    "import IPython.display as ipd"
   ]
  },
  {
   "cell_type": "code",
   "execution_count": null,
   "metadata": {},
   "outputs": [],
   "source": [
    "plt.rcParams[\"figure.figsize\"] = (10,8)"
   ]
  },
  {
   "cell_type": "markdown",
   "metadata": {},
   "source": [
    "tags disponíveis no treinamento do modelo\n",
    "> The MTT dataset considers this 50-tags vocabulary: guitar, classical, slow, techno, strings, drums, electronic, rock, fast, piano, ambient, beat, violin, vocal, synth, female, indian, opera, male, singing, vocals, no vocals, harpsichord, loud, quiet, flute, woman, male vocal, no vocal, pop, soft, sitar, solo, man, classic, choir, voice, new age, dance, male voice, female vocal, beats, harp, cello, no voice, weird, country, metal, female voice, choral."
   ]
  },
  {
   "cell_type": "markdown",
   "metadata": {},
   "source": [
    "## calcinha_preta-cobertor.mp3"
   ]
  },
  {
   "cell_type": "code",
   "execution_count": null,
   "metadata": {},
   "outputs": [],
   "source": [
    "cp_audio = './audios/calcinha_preta-cobertor.mp3'\n",
    "x, fs = librosa.load(cp_audio, duration=60)\n",
    "ipd.Audio(x, rate=fs)"
   ]
  },
  {
   "cell_type": "code",
   "execution_count": null,
   "metadata": {},
   "outputs": [],
   "source": [
    "tags = top_tags(cp_audio, model='MTT_musicnn', topN=10)"
   ]
  },
  {
   "cell_type": "code",
   "execution_count": null,
   "metadata": {
    "scrolled": true
   },
   "outputs": [],
   "source": [
    "top_tags_msd = top_tags('./audios/calcinha_preta-cobertor.mp3', model='MSD_musicnn', topN=10)"
   ]
  },
  {
   "cell_type": "code",
   "execution_count": null,
   "metadata": {},
   "outputs": [],
   "source": [
    "taggram, tags, features = extractor(cp_audio, model='MTT_musicnn')\n",
    "plot_taggram(taggram)"
   ]
  },
  {
   "cell_type": "markdown",
   "metadata": {},
   "source": [
    "## gloria_groove-coisa_boa.mp3"
   ]
  },
  {
   "cell_type": "code",
   "execution_count": null,
   "metadata": {},
   "outputs": [],
   "source": [
    "gg_audio = './audios/gloria_groove-coisa_boa.mp3'\n",
    "x, fs = librosa.load(gg_audio, offset=5, duration=60)\n",
    "ipd.Audio(x, rate=fs)"
   ]
  },
  {
   "cell_type": "code",
   "execution_count": null,
   "metadata": {},
   "outputs": [],
   "source": [
    "top_tags(gg_audio, model='MTT_musicnn', topN=10)"
   ]
  },
  {
   "cell_type": "code",
   "execution_count": null,
   "metadata": {},
   "outputs": [],
   "source": [
    "top_tags(gg_audio, model='MSD_musicnn', topN=10)"
   ]
  },
  {
   "cell_type": "code",
   "execution_count": null,
   "metadata": {},
   "outputs": [],
   "source": [
    "taggram, tags, features = extractor(gg_audio, model='MTT_musicnn')\n",
    "plot_taggram(taggram)"
   ]
  },
  {
   "cell_type": "markdown",
   "metadata": {},
   "source": [
    "## mc_rebecca-ao_som_do_150.mp3"
   ]
  },
  {
   "cell_type": "code",
   "execution_count": null,
   "metadata": {},
   "outputs": [],
   "source": [
    "mc_audio = './audios/mc_rebecca-ao_som_do_150.mp3'\n",
    "x, fs = librosa.load(mc_audio, offset=60, duration=60)\n",
    "ipd.Audio(x, rate=fs)"
   ]
  },
  {
   "cell_type": "code",
   "execution_count": null,
   "metadata": {},
   "outputs": [],
   "source": [
    "top_tags(mc_audio, model='MTT_musicnn', topN=10)"
   ]
  },
  {
   "cell_type": "code",
   "execution_count": null,
   "metadata": {},
   "outputs": [],
   "source": [
    "taggram, tags, features = extractor(mc_audio, model='MTT_musicnn')\n",
    "plot_taggram(taggram)"
   ]
  },
  {
   "cell_type": "markdown",
   "metadata": {},
   "source": [
    "## tom_jobim-garota_ipanema.mp3"
   ]
  },
  {
   "cell_type": "code",
   "execution_count": null,
   "metadata": {},
   "outputs": [],
   "source": [
    "tj_audio = './audios/tom_jobim-garota_ipanema.mp3'\n",
    "x, fs = librosa.load(tj_audio, offset=60, duration=60)\n",
    "ipd.Audio(x, rate=fs)"
   ]
  },
  {
   "cell_type": "code",
   "execution_count": null,
   "metadata": {},
   "outputs": [],
   "source": [
    "top_tags(tj_audio, model='MTT_musicnn', topN=10)"
   ]
  },
  {
   "cell_type": "code",
   "execution_count": null,
   "metadata": {},
   "outputs": [],
   "source": [
    "taggram, tags, features = extractor(tj_audio, model='MTT_musicnn')\n",
    "plot_taggram(taggram)"
   ]
  },
  {
   "cell_type": "code",
   "execution_count": null,
   "metadata": {},
   "outputs": [],
   "source": [
    "def plot_taggram(taggram):\n",
    "    fontsize = 12\n",
    "    in_length = 3\n",
    "    \n",
    "    fig, ax = plt.subplots()\n",
    "\n",
    "    # title\n",
    "    ax.title.set_text('Taggram')\n",
    "    ax.title.set_fontsize(fontsize)\n",
    "\n",
    "    # x-axis title\n",
    "    ax.set_xlabel('(seconds)', fontsize=fontsize)\n",
    "\n",
    "    # y-axis\n",
    "    y_pos = np.arange(len(tags))\n",
    "    ax.set_yticks(y_pos)\n",
    "    ax.set_yticklabels(tags, fontsize=fontsize-1)\n",
    "\n",
    "    # x-axis\n",
    "    x_pos = np.arange(taggram.shape[0])\n",
    "    x_label = np.arange(in_length/2, in_length*taggram.shape[0], 3)\n",
    "    ax.set_xticks(x_pos)\n",
    "    ax.set_xticklabels(x_label, fontsize=fontsize)\n",
    "\n",
    "    # depict taggram\n",
    "    ax.imshow(taggram.T, interpolation=None, aspect=\"auto\")\n",
    "    plt.show()"
   ]
  }
 ],
 "metadata": {
  "kernelspec": {
   "display_name": "Python 3",
   "language": "python",
   "name": "python3"
  },
  "language_info": {
   "codemirror_mode": {
    "name": "ipython",
    "version": 3
   },
   "file_extension": ".py",
   "mimetype": "text/x-python",
   "name": "python",
   "nbconvert_exporter": "python",
   "pygments_lexer": "ipython3",
   "version": "3.8.6"
  }
 },
 "nbformat": 4,
 "nbformat_minor": 2
}
