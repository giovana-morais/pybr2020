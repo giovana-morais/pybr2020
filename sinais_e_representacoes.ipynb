{
 "cells": [
  {
   "cell_type": "code",
   "execution_count": null,
   "metadata": {},
   "outputs": [],
   "source": [
    "# importando tudo que a gente precisa importar\n",
    "import librosa\n",
    "import librosa.display\n",
    "import numpy as np\n",
    "import matplotlib.pyplot as plt\n",
    "import matplotlib.animation as animation\n",
    "\n",
    "import IPython.display as ipd"
   ]
  },
  {
   "cell_type": "code",
   "execution_count": null,
   "metadata": {},
   "outputs": [],
   "source": [
    "# ajustando nossos plots\n",
    "plt.rcParams['figure.figsize'] = (15,5)"
   ]
  },
  {
   "cell_type": "markdown",
   "metadata": {},
   "source": [
    "# Representações"
   ]
  },
  {
   "cell_type": "markdown",
   "metadata": {},
   "source": [
    "## representações no domínio do tempo\n",
    "\n",
    "a forma de onda é a representação mais simples que temos. é basicamente o plot de todas as amplitudes do nosso vetor de floats. ela pode trazer algumas informações interessantes, mas no geral só é útil quando temos sinais bem simples e, preferencialmente, de um único instrumento.\n",
    "\n",
    "isso acontece porque sinais de fontes diferentes (por exemplo, um baixo e uma bateria) acabam se somando no sinal final e, ao visualizarmos a forma de onda, não conseguiremos distinguir um do outro."
   ]
  },
  {
   "cell_type": "code",
   "execution_count": null,
   "metadata": {},
   "outputs": [],
   "source": [
    "def cria_sinal(duracao, frequencia_amostragem, frequencia):\n",
    "    t = np.arange(0,duracao,1/frequencia_amostragem)\n",
    "    x = np.e**(-1j*2*np.pi*frequencia*t)\n",
    "    \n",
    "    return t, x"
   ]
  },
  {
   "cell_type": "code",
   "execution_count": null,
   "metadata": {},
   "outputs": [],
   "source": [
    "duracao = 3 # segundos\n",
    "taxa_amostragem = 22050 # amostras por segundo\n",
    "frequencia = 440 # Hz\n",
    "\n",
    "a4 = librosa.tone(frequencia, sr=taxa_amostragem, duration=duracao)"
   ]
  },
  {
   "cell_type": "code",
   "execution_count": null,
   "metadata": {},
   "outputs": [],
   "source": [
    "ipd.Audio(a4, rate=22050)"
   ]
  },
  {
   "cell_type": "code",
   "execution_count": null,
   "metadata": {},
   "outputs": [],
   "source": [
    "flute_a4, flute_fs = librosa.load('./audios/flute-a4.wav') \n",
    "ipd.Audio(flute_a4, rate=flute_fs)"
   ]
  },
  {
   "cell_type": "code",
   "execution_count": null,
   "metadata": {},
   "outputs": [],
   "source": [
    "oboe_a4, oboe_fs = librosa.load('./audios/oboe-a4.wav')\n",
    "ipd.Audio(oboe_a4, rate=oboe_fs)"
   ]
  },
  {
   "cell_type": "code",
   "execution_count": null,
   "metadata": {},
   "outputs": [],
   "source": [
    "plt.subplot(2,1,1)\n",
    "plt.plot(a4[0:200])\n",
    "plt.title('A4 sintetizado')\n",
    "plt.subplot(2,1,2)\n",
    "plt.plot(flute_a4[0:200])\n",
    "plt.title('A4 flauta')\n",
    "\n",
    "plt.tight_layout()"
   ]
  },
  {
   "cell_type": "markdown",
   "metadata": {},
   "source": [
    "### Um exemplo um pouco mais real"
   ]
  },
  {
   "cell_type": "code",
   "execution_count": null,
   "metadata": {
    "scrolled": true
   },
   "outputs": [],
   "source": [
    "# listando alguns exemplos de áudio disponíveis na biblioteca\n",
    "librosa.util.list_examples()"
   ]
  },
  {
   "cell_type": "code",
   "execution_count": null,
   "metadata": {},
   "outputs": [],
   "source": [
    "trumpet = librosa.util.example('trumpet')"
   ]
  },
  {
   "cell_type": "code",
   "execution_count": null,
   "metadata": {},
   "outputs": [],
   "source": [
    "x, fs = librosa.core.load(trumpet)"
   ]
  },
  {
   "cell_type": "code",
   "execution_count": null,
   "metadata": {},
   "outputs": [],
   "source": [
    "x.shape, fs, len(x)/fs"
   ]
  },
  {
   "cell_type": "code",
   "execution_count": null,
   "metadata": {},
   "outputs": [],
   "source": [
    "ipd.Audio(x, rate=fs)"
   ]
  },
  {
   "cell_type": "code",
   "execution_count": null,
   "metadata": {},
   "outputs": [],
   "source": [
    "librosa.display.waveplot(x)"
   ]
  },
  {
   "cell_type": "code",
   "execution_count": null,
   "metadata": {},
   "outputs": [],
   "source": [
    "ipd.Audio(x, rate=fs)"
   ]
  },
  {
   "cell_type": "code",
   "execution_count": null,
   "metadata": {},
   "outputs": [],
   "source": [
    "# vamos pegar um trecho menor pra ver mais de perto\n",
    "init_sample = 2*fs\n",
    "end_sample = init_sample + fs\n",
    "x_frame = x[init_sample:end_sample]\n",
    "\n",
    "plt.plot(x_frame)"
   ]
  },
  {
   "cell_type": "code",
   "execution_count": null,
   "metadata": {},
   "outputs": [],
   "source": [
    "# hmMmmMmMMMM, mais zoom\n",
    "init_sample = 2*fs + fs//16\n",
    "end_sample = init_sample + fs//32\n",
    "x_frame = x[init_sample:end_sample]\n",
    "\n",
    "print(x_frame.shape)\n",
    "librosa.display.waveplot(x_frame)"
   ]
  },
  {
   "cell_type": "code",
   "execution_count": null,
   "metadata": {},
   "outputs": [],
   "source": [
    "plt.plot(x_frame)"
   ]
  },
  {
   "cell_type": "code",
   "execution_count": null,
   "metadata": {},
   "outputs": [],
   "source": [
    "# o último zoom, eu juro\n",
    "plt.plot(x_frame[50:250])"
   ]
  },
  {
   "cell_type": "code",
   "execution_count": null,
   "metadata": {
    "scrolled": true
   },
   "outputs": [],
   "source": [
    "ipd.Audio(x_frame, rate=fs)"
   ]
  },
  {
   "cell_type": "markdown",
   "metadata": {},
   "source": [
    "## representação no domínio da frequência \n",
    "\n",
    "a transformada de Fourier parte do princípio de que um sinal pode ser representado como uma soma de outros sinais e que a gente consegue encontrar quais são as componentes que fazem parte dessa soma. \n",
    "\n",
    "a transformada discreta de Fourier (DFT) é uma ferramenta que nos permite visualizar o nosso sinal do domínio da frequência. é bastante útil pra conseguirmos entender quais as frequências mais importantes da janela de tempo que estamos analisando.\n",
    "\n",
    "a transformada rápida de Fourier (Fast Fourier Transform, carinhosamente conhecida como FFT) é uma versão otimizada do algoritmo e é o que geralmente usamos pra fazer a visualização.\n",
    "\n",
    "o resultado dessa operação é chamando de \"espectro\" e ele perde toda a informação temporal que tínhamos antes.\n",
    "\n",
    "de uma forma bem simples, a intuição da transformada de Fourier é comparar o nosso sinal com diversas senoides de frequências diferentes e ir \"anotando\" o quão parecida aquela onda é do nosso sinal. quanto maior o coeficiente, mais parecida a onda de frequência `k` é do nosso sinal. \n",
    "\n",
    "podemos ter diversas ondas parecidas com o sinal quando, por exemplo, tocamos um acorde de violão. "
   ]
  },
  {
   "cell_type": "code",
   "execution_count": null,
   "metadata": {
    "scrolled": true
   },
   "outputs": [],
   "source": [
    "# FFT da nota A4 sintetizada\n",
    "A4 = np.fft.fft(a4)\n",
    "FA4 = np.fft.fft(flute_a4)\n",
    "\n",
    "plt.subplot(2,1,1)\n",
    "N_a = len(a4)\n",
    "plt.plot(np.arange(N_a/2)*taxa_amostragem/N_a,np.abs(A4[0:(len(a4)//2)]))\n",
    "plt.title('A4 sintetizado')\n",
    "plt.subplot(2,1,2)\n",
    "plt.title('A4 flauta')\n",
    "N_f = len(flute_a4)\n",
    "plt.plot(np.arange(N_f/2)*flute_fs/N_f, np.abs(FA4[0:(len(flute_a4)//2)]))\n",
    "\n",
    "plt.tight_layout()"
   ]
  },
  {
   "cell_type": "code",
   "execution_count": null,
   "metadata": {},
   "outputs": [],
   "source": [
    "# FFT de um trechinho do áudio do trompete\n",
    "X_frame = np.abs(np.fft.fft(x_frame))\n",
    "N = len(x_frame)\n",
    "x_axis_hz = np.arange(N/2)*fs/N    # transformação pra representar o eixo x em Hertz\n",
    "plt.plot(x_axis_hz, X_frame[0:X_frame.shape[0]//2+1])\n",
    "plt.title('Espectro de magnitude')"
   ]
  },
  {
   "cell_type": "markdown",
   "metadata": {},
   "source": [
    "### o que mais conseguimos fazer diretamente no domínio da frequência?\n",
    "\n",
    "uma tarefa que às vezes compensa é remover algumas das componentes de frequências, geralmente as componentes mais fracas, que potencialmente podem ser \"lixo\"."
   ]
  },
  {
   "cell_type": "code",
   "execution_count": null,
   "metadata": {},
   "outputs": [],
   "source": [
    "# remoção das componentes mais fracas\n",
    "X = np.fft.fft(x)\n",
    "Y = X.copy();\n",
    "N = len(X)\n",
    "threshold = 0.1*abs(Y).max()\n",
    "\n",
    "for val in np.nditer(Y, op_flags=['readwrite']):\n",
    "    if abs(val) < threshold:\n",
    "        val[...] = 0\n",
    "        \n",
    "reconstrucao = np.real(np.fft.ifft(Y)); \n",
    "\n",
    "plt.subplot(2,2,1)\n",
    "plt.plot(x)\n",
    "plt.title('Audio Original')\n",
    "\n",
    "plt.subplot(2,2,2)\n",
    "plt.plot(reconstrucao)\n",
    "plt.title('Audio Ressintetizado')\n",
    "\n",
    "\n",
    "plt.subplot(2,2,3)\n",
    "plt.plot(np.abs(X[0:N//2]))\n",
    "plt.title('Espectro Original')\n",
    "\n",
    "plt.subplot(2,2,4)\n",
    "plt.plot(np.abs(np.fft.fft(reconstrucao)[0:N//2]))\n",
    "plt.title('Espectro Ressintetizado')\n",
    "\n",
    "plt.tight_layout()\n",
    "\n",
    "ipd.Audio(reconstrucao, rate=fs)"
   ]
  },
  {
   "cell_type": "markdown",
   "metadata": {},
   "source": [
    "## representações tempo-frequência\n",
    "\n",
    "uma forma esperta de conseguir ver as informações de frequência em função do tempo é janelar o sinal, ou seja, analisar pequenos trechos por vez e ir concatenando as informações que achamos. o nome dessa representação é \"espectrograma\"\n",
    "\n",
    "o espectrograma é uma representação muito usada de sinais de áudio. alguns sistemas de aprendizado de máquina inclusive aplicam métodos de visão computacional e processamento de imagens pra conseguir informações sobre o áudio, uma vez que a imagem é mais leve que o áudio e o processamento é mais barato."
   ]
  },
  {
   "cell_type": "code",
   "execution_count": null,
   "metadata": {},
   "outputs": [],
   "source": [
    "plt.figure()\n",
    "img = librosa.display.specshow(librosa.amplitude_to_db(np.abs(librosa.stft(x)), ref=np.max), y_axis='log', x_axis='time')\n",
    "plt.title('espectrograma do audio do trompete')\n",
    "plt.colorbar(format=\"%+2.f dB\")"
   ]
  },
  {
   "cell_type": "code",
   "execution_count": null,
   "metadata": {},
   "outputs": [],
   "source": [
    "plt.figure()\n",
    "img = librosa.display.specshow(librosa.amplitude_to_db(np.abs(librosa.stft(flute_a4)), ref=np.max), y_axis='log', x_axis='time')\n",
    "plt.title('espectrograma do audio da flauta')\n",
    "plt.colorbar(format=\"%+2.f dB\")"
   ]
  },
  {
   "cell_type": "code",
   "execution_count": null,
   "metadata": {},
   "outputs": [],
   "source": [
    "plt.figure()\n",
    "img = librosa.display.specshow(librosa.amplitude_to_db(np.abs(librosa.stft(a4)), ref=np.max), y_axis='log', x_axis='time')\n",
    "plt.title('espectrograma do audio sintetizado')\n",
    "plt.colorbar(format=\"%+2.f dB\")"
   ]
  },
  {
   "cell_type": "markdown",
   "metadata": {},
   "source": [
    "## Separação harmônica e percussiva"
   ]
  },
  {
   "cell_type": "code",
   "execution_count": null,
   "metadata": {},
   "outputs": [],
   "source": [
    "def plota_espectrogramas(X, X_harmonico, X_percussivo):\n",
    "    fig, ax = plt.subplots(nrows=3, sharex=True, sharey=True)\n",
    "\n",
    "    img = librosa.display.specshow(librosa.amplitude_to_db(np.abs(X), ref=reference_power),\n",
    "                             y_axis='log', x_axis='time', ax=ax[0])\n",
    "    ax[0].set(title='Espectrograma')\n",
    "    ax[0].label_outer()\n",
    "\n",
    "    librosa.display.specshow(librosa.amplitude_to_db(np.abs(X_harmonico), ref=reference_power),\n",
    "                             y_axis='log', x_axis='time', ax=ax[1])\n",
    "    ax[1].set(title='Espectrograma harmônico')\n",
    "    ax[1].label_outer()\n",
    "\n",
    "    librosa.display.specshow(librosa.amplitude_to_db(np.abs(X_percussivo), ref=reference_power),\n",
    "                             y_axis='log', x_axis='time', ax=ax[2])\n",
    "    ax[2].set(title='Espectrograma percussivo')\n",
    "    fig.colorbar(img, ax=ax)"
   ]
  },
  {
   "cell_type": "code",
   "execution_count": null,
   "metadata": {},
   "outputs": [],
   "source": [
    "praieira, fs = librosa.load('audios/chico_science-praieira.mp3')"
   ]
  },
  {
   "cell_type": "code",
   "execution_count": null,
   "metadata": {},
   "outputs": [],
   "source": [
    "ipd.Audio(praieira, rate=fs)"
   ]
  },
  {
   "cell_type": "code",
   "execution_count": null,
   "metadata": {},
   "outputs": [],
   "source": [
    "trecho_praieira = praieira[5*fs:15*fs]"
   ]
  },
  {
   "cell_type": "code",
   "execution_count": null,
   "metadata": {},
   "outputs": [],
   "source": [
    "ipd.Audio(trecho_praieira, rate=fs)"
   ]
  },
  {
   "cell_type": "code",
   "execution_count": null,
   "metadata": {},
   "outputs": [],
   "source": [
    "X = librosa.stft(trecho_praieira)"
   ]
  },
  {
   "cell_type": "code",
   "execution_count": null,
   "metadata": {},
   "outputs": [],
   "source": [
    "harmonico, percussivo = librosa.decompose.hpss(X)"
   ]
  },
  {
   "cell_type": "code",
   "execution_count": null,
   "metadata": {},
   "outputs": [],
   "source": [
    "reference_power = np.max(np.abs(X))"
   ]
  },
  {
   "cell_type": "code",
   "execution_count": null,
   "metadata": {},
   "outputs": [],
   "source": [
    "plota_espectrogramas(X, harmonico, percussivo)"
   ]
  },
  {
   "cell_type": "code",
   "execution_count": null,
   "metadata": {},
   "outputs": [],
   "source": [
    "harmonico_ress = librosa.istft(harmonico.real)"
   ]
  },
  {
   "cell_type": "code",
   "execution_count": null,
   "metadata": {},
   "outputs": [],
   "source": [
    "ipd.Audio(harmonico_ress, rate=fs)"
   ]
  },
  {
   "cell_type": "code",
   "execution_count": null,
   "metadata": {},
   "outputs": [],
   "source": [
    "percussivo_ress = librosa.istft(percussivo.real)\n",
    "ipd.Audio(percussivo_ress, rate=fs)"
   ]
  },
  {
   "cell_type": "code",
   "execution_count": null,
   "metadata": {},
   "outputs": [],
   "source": [
    "choice_path = librosa.util.example('choice')\n",
    "choice, c_fs = librosa.load(choice_path)"
   ]
  },
  {
   "cell_type": "code",
   "execution_count": null,
   "metadata": {},
   "outputs": [],
   "source": [
    "ipd.Audio(choice, rate=c_fs)"
   ]
  },
  {
   "cell_type": "code",
   "execution_count": null,
   "metadata": {},
   "outputs": [],
   "source": [
    "C = librosa.stft(choice)\n",
    "C_harm, C_perc = librosa.decompose.hpss(C)\n",
    "\n",
    "reference_power = np.max(np.abs(C))\n",
    "\n",
    "plota_espectrogramas(C, C_harm, C_perc)"
   ]
  },
  {
   "cell_type": "code",
   "execution_count": null,
   "metadata": {},
   "outputs": [],
   "source": [
    "c_harm_ress = librosa.istft(C_harm)\n",
    "c_perc_ress = librosa.istft(C_perc)"
   ]
  },
  {
   "cell_type": "code",
   "execution_count": null,
   "metadata": {},
   "outputs": [],
   "source": [
    "ipd.Audio(c_harm_ress, rate=c_fs)"
   ]
  },
  {
   "cell_type": "code",
   "execution_count": null,
   "metadata": {},
   "outputs": [],
   "source": [
    "ipd.Audio(c_perc_ress, rate=c_fs)"
   ]
  },
  {
   "cell_type": "code",
   "execution_count": null,
   "metadata": {},
   "outputs": [],
   "source": [
    "# this is reconstrução perfeita, bitches\n",
    "ipd.Audio(c_harm_ress + c_perc_ress, rate=c_fs)"
   ]
  },
  {
   "cell_type": "code",
   "execution_count": null,
   "metadata": {},
   "outputs": [],
   "source": [
    "# ultima brincadeira\n",
    "ungrateful, u_fs = librosa.load('audios/escape_the_fate-ungrateful.mp3')"
   ]
  },
  {
   "cell_type": "code",
   "execution_count": null,
   "metadata": {},
   "outputs": [],
   "source": [
    "ipd.Audio(ungrateful, rate=u_fs)"
   ]
  },
  {
   "cell_type": "code",
   "execution_count": null,
   "metadata": {},
   "outputs": [],
   "source": [
    "U = librosa.stft(ungrateful)\n",
    "U_harm, U_perc = librosa.decompose.hpss(U)\n",
    "\n",
    "plota_espectrogramas(U, U_harm, U_perc)"
   ]
  },
  {
   "cell_type": "code",
   "execution_count": null,
   "metadata": {},
   "outputs": [],
   "source": [
    "u_harm_ress = librosa.istft(U_harm)\n",
    "u_perc_ress = librosa.istft(U_perc)"
   ]
  },
  {
   "cell_type": "code",
   "execution_count": null,
   "metadata": {},
   "outputs": [],
   "source": [
    "ipd.Audio(u_harm_ress, rate=u_fs)"
   ]
  },
  {
   "cell_type": "code",
   "execution_count": null,
   "metadata": {},
   "outputs": [],
   "source": [
    "ipd.Audio(u_perc_ress, rate=u_fs)"
   ]
  }
 ],
 "metadata": {
  "kernelspec": {
   "display_name": "Python 3",
   "language": "python",
   "name": "python3"
  },
  "language_info": {
   "codemirror_mode": {
    "name": "ipython",
    "version": 3
   },
   "file_extension": ".py",
   "mimetype": "text/x-python",
   "name": "python",
   "nbconvert_exporter": "python",
   "pygments_lexer": "ipython3",
   "version": "3.8.6"
  }
 },
 "nbformat": 4,
 "nbformat_minor": 2
}
